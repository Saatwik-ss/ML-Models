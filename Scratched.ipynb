{
 "cells": [
  {
   "cell_type": "code",
   "execution_count": 144,
   "id": "7acf3ff4",
   "metadata": {},
   "outputs": [],
   "source": [
    "import numpy as np"
   ]
  },
  {
   "cell_type": "markdown",
   "id": "12d057c7",
   "metadata": {},
   "source": [
    "## Perceptrons\n"
   ]
  },
  {
   "cell_type": "code",
   "execution_count": 136,
   "id": "4424c682",
   "metadata": {},
   "outputs": [],
   "source": [
    "class Perceptron:\n",
    "    def __init__(self, input_size, lr=0.1, epochs=1000):\n",
    "        self.weights = np.zeros(input_size + 1)\n",
    "        self.lr = lr\n",
    "        self.epochs = epochs\n",
    "\n",
    "    def activate(self, z):\n",
    "        return 1 if z > 0 else 0\n",
    "\n",
    "    def ans(self, x):\n",
    "        z = np.dot(x, self.weights[1:]) + self.weights[0]\n",
    "        return self.activate(z)\n",
    "\n",
    "    def train(self, X, y):\n",
    "        for i in range(self.epochs):\n",
    "            for x, target in zip(X, y):\n",
    "                output = self.ans(x)\n",
    "                error = (target - output) * self.lr\n",
    "                self.weights[1:] += error * x\n",
    "                self.weights[0] += error\n"
   ]
  },
  {
   "cell_type": "code",
   "execution_count": 137,
   "id": "559b270a",
   "metadata": {},
   "outputs": [
    {
     "name": "stdout",
     "output_type": "stream",
     "text": [
      "[0 0] => 0\n",
      "[0 1] => 0\n",
      "[1 0] => 0\n",
      "[1 1] => 1\n"
     ]
    }
   ],
   "source": [
    "X = np.array([[0, 0],\n",
    "              [0, 1],\n",
    "              [1, 0],\n",
    "              [1, 1]])\n",
    "y = np.array([0, 0, 0, 1])\n",
    "\n",
    "# Train perceptron\n",
    "p = Perceptron(input_size=2)\n",
    "p.train(X, y)\n",
    "\n",
    "# Test predictions\n",
    "for input_vec in X:\n",
    "    print(f\"{input_vec} => {p.ans(input_vec)}\")  # Use `ans` to get prediction\n"
   ]
  },
  {
   "cell_type": "markdown",
   "id": "497466ac",
   "metadata": {},
   "source": [
    "## Single Node"
   ]
  },
  {
   "cell_type": "code",
   "execution_count": 138,
   "id": "8f6780f1",
   "metadata": {},
   "outputs": [],
   "source": [
    "class Node:\n",
    "    def __init__(self, input_size, lr=0.01, epochs=1000):\n",
    "        self.weights = np.zeros(input_size)\n",
    "        self.bias = 0\n",
    "        self.lr = lr\n",
    "        self.epochs = epochs\n",
    "\n",
    "    def predict(self, X):\n",
    "        return np.dot(X, self.weights) + self.bias\n",
    "\n",
    "    def train(self, X, y):\n",
    "        n = X.shape[0]\n",
    "\n",
    "        for i in range(self.epochs):\n",
    "            y_pred = self.predict(X)\n",
    "            dw = (2/n) * np.dot(X.T, (y_pred - y))\n",
    "            db = (2/n) * np.sum(y_pred - y)\n",
    "            self.weights -= self.lr * dw\n",
    "            self.bias    -= self.lr * db"
   ]
  },
  {
   "cell_type": "code",
   "execution_count": 139,
   "id": "5c6c7c09",
   "metadata": {},
   "outputs": [
    {
     "name": "stdout",
     "output_type": "stream",
     "text": [
      "1 => 3.01\n",
      "2 => 6.01\n",
      "3 => 9.01\n",
      "4 => 12.00\n",
      "5 => 15.00\n",
      "6 => 17.99\n"
     ]
    }
   ],
   "source": [
    "X = np.array([1,2,3,4,5,6])  # Shape: (6, 1)\n",
    "y = np.array([3, 6, 9, 12, 15, 18])           # y = 3x\n",
    "input_size = int(input(\"Enter input size\"))\n",
    "model = Node(input_size=1, lr=0.01, epochs=1000)\n",
    "X = X.reshape(-1, input_size)  # Reshape X\n",
    "model.train(X, y)\n",
    "for x_val in X:\n",
    "    print(f\"{x_val[0]} => {model.predict(x_val.reshape(1, -1))[0]:.2f}\")"
   ]
  },
  {
   "cell_type": "markdown",
   "id": "a3186f4e",
   "metadata": {},
   "source": [
    "## Neural Network"
   ]
  },
  {
   "cell_type": "code",
   "execution_count": null,
   "id": "d78232f1",
   "metadata": {},
   "outputs": [],
   "source": [
    "class Layer:\n",
    "    def __init__(self, input_size, output_size):\n",
    "        self.weights = np.random.randn(input_size, output_size)\n",
    "        self.biases = np.zeros(output_size)\n",
    "        self.last_output = None\n",
    "\n",
    "    def forward(self, x):\n",
    "        self.last_input = x\n",
    "        self.last_output = np.dot(x, self.weights) + self.biases\n",
    "        return self.relu(self.last_output)\n",
    "\n",
    "    def backward(self, x, grad, lr):\n",
    "        # gradient descent\n",
    "        dw = np.dot(x.T, grad)  # Gradient w.r.t. weights\n",
    "        db = np.sum(grad, axis=0)  # Gradient w.r.t. biases\n",
    "\n",
    "        grad_clip = 10\n",
    "        dw = np.clip(dw, -grad_clip, grad_clip)\n",
    "        db = np.clip(db, -grad_clip, grad_clip)\n",
    "        \n",
    "        self.weights -= lr * dw\n",
    "        self.biases -= lr * db\n",
    "        return np.dot(grad, self.weights.T)  # Gradient for the next layer\n",
    "\n",
    "    def relu(self, z):\n",
    "        return np.maximum(0, z)  # ReLU activation\n",
    "\n",
    "    def relu_derivative(self, z):\n",
    "        return np.where(z > 0, 1, 0)  # Derivative of ReLU"
   ]
  },
  {
   "cell_type": "code",
   "execution_count": 147,
   "id": "5192080e",
   "metadata": {},
   "outputs": [
    {
     "name": "stdout",
     "output_type": "stream",
     "text": [
      "0 => 0.00\n",
      "1 => 3.19\n",
      "2 => 6.39\n",
      "3 => 9.59\n",
      "4 => 12.79\n",
      "5 => 15.99\n"
     ]
    }
   ],
   "source": [
    "class NeuralNetwork:\n",
    "    def __init__(self, layer_sizes, lr=0.001):  \n",
    "        # Create layers based on the given architecture\n",
    "        self.lr = lr\n",
    "        self.layers = [Layer(layer_sizes[i], layer_sizes[i+1]) for i in range(len(layer_sizes)-1)]\n",
    "\n",
    "    def forward(self, x):\n",
    "        for layer in self.layers:\n",
    "            x = layer.forward(x)\n",
    "        return x\n",
    "\n",
    "    def backward(self, x, y_pred, y_true):\n",
    "        loss_grad = 2 * (y_pred - y_true)  # MSE loss gradient\n",
    "        for i in reversed(range(1, len(self.layers))):\n",
    "            loss_grad = self.layers[i].backward(self.layers[i-1].last_output, loss_grad, self.lr)\n",
    "        self.layers[0].backward(x, loss_grad, self.lr)\n",
    "\n",
    "    def train(self, X, y, epochs=1000):\n",
    "        for _ in range(epochs):\n",
    "            for x_i, y_i in zip(X, y):\n",
    "                x_input = x_i.reshape(1, -1)  # Ensure the input is a 2D array (single sample)\n",
    "                for layer in self.layers:\n",
    "                    x_input = layer.forward(x_input)\n",
    "                    layer.last_output = x_input  # store for backward pass\n",
    "                self.backward(x_i.reshape(1, -1), x_input, y_i.reshape(1, -1))  # Reshape for consistency\n",
    "\n",
    "    def predict(self, x):\n",
    "        x = x.reshape(1, -1)\n",
    "        for layer in self.layers:\n",
    "            x = layer.forward(x)\n",
    "        return x\n",
    "\n",
    "# Test the implementation on x^2 (squared function)\n",
    "# Create a 3-layer network: input-1 → hidden-8 → output-1\n",
    "nn = NeuralNetwork([1, 8, 1], lr=0.01)  # Using 1 input, 8 hidden neurons, and 1 output\n",
    "\n",
    "# x^2 data\n",
    "X = np.array([[0], [1], [2], [3], [4], [5]])  # Inputs\n",
    "y = np.array([[0], [1], [4], [9], [16], [25]])  # Outputs (x^2)\n",
    "\n",
    "# Train the model\n",
    "nn.train(X, y, epochs=10000)  # Increase epochs for better learning\n",
    "\n",
    "# Test predictions\n",
    "for x in X:\n",
    "    print(f\"{x[0]} => {nn.predict(x)[0][0]:.2f}\")\n"
   ]
  },
  {
   "cell_type": "code",
   "execution_count": 148,
   "id": "d342ba35",
   "metadata": {},
   "outputs": [
    {
     "name": "stdout",
     "output_type": "stream",
     "text": [
      "[0 0] => 0.00\n",
      "[0 1] => 0.00\n",
      "[1 0] => 0.00\n",
      "[1 1] => 1.00\n"
     ]
    }
   ],
   "source": [
    "nn = NeuralNetwork([2, 4, 1], lr=0.01) \n",
    "X = np.array([[0, 0], [0, 1], [1, 0], [1, 1]])  # AND gate inputs\n",
    "y = np.array([[0], [0], [0], [1]])  # AND gate outputs\n",
    "nn.train(X, y, epochs=10000)  \n",
    "for x in X:\n",
    "    print(f\"{x} => {nn.predict(x)[0][0]:.2f}\")"
   ]
  },
  {
   "cell_type": "code",
   "execution_count": null,
   "id": "40ff7961",
   "metadata": {},
   "outputs": [],
   "source": []
  }
 ],
 "metadata": {
  "kernelspec": {
   "display_name": "Python 3",
   "language": "python",
   "name": "python3"
  },
  "language_info": {
   "codemirror_mode": {
    "name": "ipython",
    "version": 3
   },
   "file_extension": ".py",
   "mimetype": "text/x-python",
   "name": "python",
   "nbconvert_exporter": "python",
   "pygments_lexer": "ipython3",
   "version": "3.12.8"
  }
 },
 "nbformat": 4,
 "nbformat_minor": 5
}
